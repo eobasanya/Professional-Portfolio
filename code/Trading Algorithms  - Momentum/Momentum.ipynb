{
 "cells": [
  {
   "cell_type": "code",
   "execution_count": 1,
   "id": "27ef6f8b-ca46-4993-b777-28977eca96e1",
   "metadata": {},
   "outputs": [],
   "source": [
    "#Public\n",
    "from binance.client import Client\n",
    "import numpy as np\n",
    "import pandas as pd\n",
    "import time \n",
    "import seaborn as sns\n",
    "import matplotlib.pyplot as plt\n",
    "from datetime import datetime\n",
    "import os\n",
    "from dotenv import load_dotenv\n"
   ]
  },
  {
   "cell_type": "code",
   "execution_count": 2,
   "id": "b3d509e3-6e38-456f-87a0-0ce02d1f827c",
   "metadata": {},
   "outputs": [],
   "source": [
    "#API Key and Secret Key \n",
    "load_dotenv()\n",
    "api_key = os.getenv('binance_key')\n",
    "api_secret = os.getenv('binance_secret_key')\n",
    "\n",
    "#Launching Binance API client\n",
    "client = Client(api_key, api_secret)\n",
    "#print(\"Logged in\")\n"
   ]
  },
  {
   "cell_type": "code",
   "execution_count": 3,
   "id": "438a7bc9-7d37-40e6-bba2-c759f872ab54",
   "metadata": {},
   "outputs": [
    {
     "name": "stdout",
     "output_type": "stream",
     "text": [
      "How many market checks would you like completed ( per round of testing )\n",
      "How much time would you like between each market check ( in seconds please )?\n",
      "How many rounds of testing would you like to do?\n",
      "I estimate this program will run for  100  seconds.\n"
     ]
    }
   ],
   "source": [
    "print(\"How many market checks would you like completed ( per round of testing )\")\n",
    "total_checks = int(input())\n",
    "\n",
    "print(\"How much time would you like between each market check ( in seconds please )?\")\n",
    "time_between_checks = int(input())\n",
    "\n",
    "print(\"How many rounds of testing would you like to do?\")\n",
    "total_rounds = int(input())\n",
    "\n",
    "print(\"I estimate this program will run for \", (total_checks * time_between_checks * total_rounds*2), \" seconds.\")\n"
   ]
  },
  {
   "cell_type": "code",
   "execution_count": 4,
   "id": "06062a9e-aafa-4442-b1e1-4db432be476c",
   "metadata": {},
   "outputs": [],
   "source": [
    "#Lists\n",
    "data_symb = [] #Symbols\n",
    "data_inv = [] #Investments\n",
    "data_pc = [] #Percentage Change\n",
    "\n",
    "#Creating a batch variable to keep track of what 'batch' we are on for testing purposes\n",
    "batch = 0"
   ]
  },
  {
   "cell_type": "code",
   "execution_count": 5,
   "id": "7293f19d-4722-417f-8278-765956360bcc",
   "metadata": {
    "tags": []
   },
   "outputs": [
    {
     "name": "stdout",
     "output_type": "stream",
     "text": [
      "Initial Market Check for Batch # 0  is complete.\n",
      "Now Sleeping for Designated Time\n",
      "Batch # 0 is complete. It is currently  16:07:47 .\n",
      "\n",
      "Initial Market Check for Batch # 1  is complete.\n",
      "Now Sleeping for Designated Time\n",
      "Batch # 1 is complete. It is currently  16:08:11 .\n",
      "\n",
      "Initial Market Check for Batch # 2  is complete.\n",
      "Now Sleeping for Designated Time\n",
      "Batch # 2 is complete. It is currently  16:08:35 .\n",
      "\n",
      "Initial Market Check for Batch # 3  is complete.\n",
      "Now Sleeping for Designated Time\n",
      "Batch # 3 is complete. It is currently  16:08:59 .\n",
      "\n",
      "Initial Market Check for Batch # 4  is complete.\n",
      "Now Sleeping for Designated Time\n",
      "Batch # 4 is complete. It is currently  16:09:22 .\n",
      "\n"
     ]
    }
   ],
   "source": [
    "while (batch < total_rounds):    \n",
    "    \n",
    "    #Gets every 24h ticker data point\n",
    "    tickers = client.get_ticker()\n",
    "\n",
    "    #cols are the names of the dataframe's columns\n",
    "    cols = [\"Symbol\", \"Current Price\", \"Volume\", \"24hr %Change\", \"High Price\", \"Low Price\"]\n",
    "\n",
    "    #creating a dataframe 'df' to store all our numbers\n",
    "    df_assets = pd.DataFrame(columns = cols)\n",
    "\n",
    "    #enumerating variable 'en'\n",
    "    en = 0\n",
    "\n",
    "    for ticker in tickers:\n",
    "        df_assets.loc[en] = [ticker['symbol'],float(ticker['askPrice']), float(ticker['volume']),\n",
    "                            float(ticker['priceChangePercent']), float(ticker['highPrice']), float(ticker['lowPrice'])]\n",
    "        en = en+1\n",
    "    \n",
    "    #Now I want to track the momentum of each trading asset\n",
    "    #Going to create a Dataframe for that\n",
    "    df_momentum = pd.DataFrame(data = df_assets['Symbol'], columns = ['Symbol'])\n",
    "\n",
    "\n",
    "    current_check = 0 #Enumeration variable\n",
    "    momentum_values_list = [] #list to keep track of momentum values\n",
    "\n",
    "    #Creating a loop to mimic time and collect data as time passes\n",
    "    while(current_check < total_checks):\n",
    "\n",
    "        tickers = client.get_ticker() #Gets current ticker information\n",
    "        temp = [] #List to keep track of momentum values for the current iteration market check\n",
    "\n",
    "        for ticker in tickers:\n",
    "            temp.append(float(ticker['askPrice']))\n",
    "\n",
    "\n",
    "        momentum_values_list.append(temp) #Appending temp to our momentum_values_list    \n",
    "        current_check = current_check + 1 #Enumerating current_check to eventually meet total_checks value\n",
    "        time.sleep(time_between_checks) #Resting for designated time\n",
    "\n",
    "    print(\"Initial Market Check for Batch #\",batch,\" is complete.\")\n",
    "\n",
    "\n",
    "    #Now I want to add our market data gathered from 'momentum_values_list' to our momentum dataframe 'df_momentum'\n",
    "    for i in range(total_checks):\n",
    "        df_momentum.insert(i+1,i+1,momentum_values_list[i])\n",
    "\n",
    "    #Setting up DataFrames\n",
    "    perc_change = ((df_momentum[total_checks] - df_momentum[1])/df_momentum[1])\n",
    "    df_momentum.insert(df_momentum.shape[1], \"Percentage Change\", perc_change)\n",
    "    df_pos_momentum = df_momentum[df_momentum['Percentage Change'] > 0]\n",
    "    \n",
    "    #Filtering Dataframe\n",
    "    strat_df = df_pos_momentum[df_pos_momentum['Percentage Change'] >= df_pos_momentum['Percentage Change'].quantile(.98)]\n",
    "    \n",
    "    #Calculating Individual Investments\n",
    "    total_investment = 10000\n",
    "    strat_df_invs = ((strat_df['Percentage Change']/strat_df['Percentage Change'].sum())*total_investment)\n",
    "    \n",
    "    #Appending Investments to Dataframe\n",
    "    strat_df.insert(strat_df.shape[1], \"Investments\", strat_df_invs)\n",
    "    \n",
    "    # Send investment suggestions to your mobile number.\n",
    "    \n",
    "        \n",
    "    #HERE IS WHERE YOU WOULD ACTUALLY PURCHASE USING BINANCE API\n",
    "    #HERE IS WHERE YOU WOULD ACTUALLY PURCHASE USING BINANCE API\n",
    "    #HERE IS WHERE YOU WOULD ACTUALLY PURCHASE USING BINANCE API\n",
    "  \n",
    "    \n",
    "    #Gathering Restult Data for Evaluation\n",
    "    print(\"Now Sleeping for Designated Time\")\n",
    "    time.sleep(total_checks * time_between_checks) #resting for the passage of time and assets to appreciate in value\n",
    "\n",
    "    symbols_strat_df = strat_df['Symbol'].values #list of symbols in the positive momentum dataframe\n",
    "    new_prices = [None] * len(symbols_strat_df) #List for prices of post-trade (for evaluation purposes)\n",
    "\n",
    "    tickers = client.get_ticker() #gets most up to date info\n",
    "    i = 0 #Enumeration variable\n",
    "\n",
    "    for ticker in tickers:\n",
    "     \n",
    "        if (i == len(symbols_strat_df)):\n",
    "            break\n",
    "        if ((ticker['symbol'] == symbols_strat_df[i])):\n",
    "            new_prices[i] = float(ticker['askPrice'])\n",
    "            i = i + 1\n",
    "            \n",
    "    #Appending Result Data to DataFrame\n",
    "    strat_df.insert(strat_df.shape[1], \"Updated Prices\", new_prices)\n",
    "    \n",
    "    #Calculating % Change in Value\n",
    "    strat_df_civ = (strat_df['Updated Prices'] - strat_df[total_checks])/strat_df[total_checks]\n",
    "    \n",
    "    #Appending Change in Investment Value to Dataframe\n",
    "    strat_df.insert(strat_df.shape[1], \"Change in Investment Value\", strat_df_civ)\n",
    "    \n",
    "    #Storing our results\n",
    "    data_symb.append(strat_df['Symbol'])\n",
    "    data_inv.append(strat_df['Investments'])\n",
    "    data_pc.append(strat_df['Change in Investment Value'])\n",
    "\n",
    "    #Getting current time for documentation purposes\n",
    "    now = datetime.now()\n",
    "    current_time = now.strftime(\"%H:%M:%S\")\n",
    "\n",
    "    print(\"Batch #\", batch, \"is complete. It is currently \", current_time,\".\\n\")\n",
    "\n",
    "    batch = batch + 1 #Enumerating batch variable\n",
    "    "
   ]
  },
  {
   "cell_type": "code",
   "execution_count": 16,
   "id": "27a89409-c33b-4aa1-bdac-b5c8bab1e627",
   "metadata": {
    "tags": []
   },
   "outputs": [
    {
     "name": "stdout",
     "output_type": "stream",
     "text": [
      "Your investment suggestion is the following:  145       QSPBTC\n",
      "360       KEYETH\n",
      "557      DOGEBTC\n",
      "1759    PORTOEUR\n",
      "Name: Symbol, dtype: object 145     1.99\n",
      "360     0.38\n",
      "557     0.33\n",
      "1759    0.84\n",
      "Name: Percentage Change (%), dtype: float64\n",
      "Your investment suggestion is the following:  145       QSPBTC\n",
      "360       KEYETH\n",
      "557      DOGEBTC\n",
      "1759    PORTOEUR\n",
      "Name: Symbol, dtype: object 145     1.99\n",
      "360     0.38\n",
      "557     0.33\n",
      "1759    0.84\n",
      "Name: Percentage Change (%), dtype: float64\n"
     ]
    },
    {
     "data": {
      "image/png": "[encoded data removed]",
      "text/plain": [
       "<Figure size 432x288 with 1 Axes>"
      ]
     },
     "metadata": {
      "needs_background": "light"
     },
     "output_type": "display_data"
    }
   ],
   "source": [
    "\n",
    "#Obtaining final investments strategies from the strat_df\n",
    "\n",
    "final_investments = strat_df.loc[:, ['Symbol', 'Percentage Change']]\n",
    "final_investments['Percentage Change'] = round(final_investments['Percentage Change']* 100, 2)\n",
    "final_investments = final_investments.rename(columns={'Percentage Change' : 'Percentage Change (%)'})\n",
    "\n",
    "#Display Suggestions\n",
    "print(f\"Your investment suggestion is the following: \", final_investments['Symbol'], final_investments['Percentage Change (%)'] )\n",
    "#whatsapp_notification = print(f\"Your investment suggestion is the following: \", final_investments['Symbol'], final_investments['Percentage Change (%)'] )\n",
    "\n",
    "#plot values\n",
    "x = final_investments['Symbol']\n",
    "y = final_investments['Percentage Change (%)']\n",
    "\n",
    "# assign your bars to a variable so their attributes can be accessed\n",
    "bars = plt.bar(x=x, height=y, width=.4)\n",
    "\n",
    "# access the bar attributes to place the text in the appropriate location\n",
    "for bar in bars:\n",
    "    yval = bar.get_height()\n",
    "    plt.text(bar.get_x(),  yval + .005, yval)"
   ]
  },
  {
   "cell_type": "code",
   "execution_count": 23,
   "id": "305a4674-3838-4087-9dd8-0b92596f8dab",
   "metadata": {},
   "outputs": [
    {
     "name": "stdout",
     "output_type": "stream",
     "text": [
      "There are no cryptocurrencies surging over 5%.\n"
     ]
    }
   ],
   "source": [
    "#Twilio notification setup\n",
    "from twilio.rest import Client \n",
    "twilio_sid = os.getenv('twilio_sid')\n",
    "twilio_auth_token = os.getenv('twilio_auth_token')\n",
    "client_twilio = Client(twilio_sid, twilio_auth_token) \n",
    "\n",
    "final_investments_max = max(final_investments['Percentage Change (%)'])\n",
    "momentum_threshold = 5\n",
    "\n",
    "if final_investments_max >= momentum_threshold:\n",
    "    print(f\"There are cryptocurrencies surging over {momentum_threshold}%!\")\n",
    "\n",
    "    message = client_twilio.messages.create( \n",
    "                                  from_='whatsapp:+14155238886',  \n",
    "                                  body= 'Cryptomarkets are surging over your designated threshold!',      \n",
    "                                  to='whatsapp:+11111111111' \n",
    "                              ) \n",
    "\n",
    "    print(message.sid)\n",
    "elif final_investments_max < momentum_threshold:\n",
    "    print(f\"There are no cryptocurrencies surging over {momentum_threshold}%.\")\n",
    "\n",
    "    message = client_twilio.messages.create( \n",
    "                                  from_='whatsapp:+14155238886',  \n",
    "                                  body= 'There are no cryptocurrencies surging over your designated threshold',      \n",
    "                                  to='whatsapp:+11111111111' \n",
    "                              ) \n"
   ]
  },
  {
   "cell_type": "code",
   "execution_count": null,
   "id": "9b71ba39-9b8c-4f16-bf81-c401db02c834",
   "metadata": {},
   "outputs": [],
   "source": []
  }
 ],
 "metadata": {
  "kernelspec": {
   "display_name": "Python 3 (ipykernel)",
   "language": "python",
   "name": "python3"
  },
  "language_info": {
   "codemirror_mode": {
    "name": "ipython",
    "version": 3
   },
   "file_extension": ".py",
   "mimetype": "text/x-python",
   "name": "python",
   "nbconvert_exporter": "python",
   "pygments_lexer": "ipython3",
   "version": "3.9.7"
  }
 },
 "nbformat": 4,
 "nbformat_minor": 5
}
